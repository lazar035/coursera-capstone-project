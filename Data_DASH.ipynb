{
    "cells": [
        {
            "cell_type": "code",
            "execution_count": 1,
            "id": "fc9e6094-683c-493b-8f2a-5cd004c47d5b",
            "metadata": {},
            "outputs": [
                {
                    "name": "stdout",
                    "output_type": "stream",
                    "text": "Requirement already satisfied: dash in c:\\users\\me\\anaconda3\\lib\\site-packages (2.0.0)\nRequirement already satisfied: flask-compress in c:\\users\\me\\anaconda3\\lib\\site-packages (from dash) (1.10.1)\nRequirement already satisfied: Flask>=1.0.4 in c:\\users\\me\\anaconda3\\lib\\site-packages (from dash) (1.1.2)\nRequirement already satisfied: plotly>=5.0.0 in c:\\users\\me\\anaconda3\\lib\\site-packages (from dash) (5.2.1)\nRequirement already satisfied: dash-html-components==2.0.0 in c:\\users\\me\\anaconda3\\lib\\site-packages (from dash) (2.0.0)\nRequirement already satisfied: dash-core-components==2.0.0 in c:\\users\\me\\anaconda3\\lib\\site-packages (from dash) (2.0.0)\nRequirement already satisfied: dash-table==5.0.0 in c:\\users\\me\\anaconda3\\lib\\site-packages (from dash) (5.0.0)\nRequirement already satisfied: Werkzeug>=0.15 in c:\\users\\me\\anaconda3\\lib\\site-packages (from Flask>=1.0.4->dash) (1.0.1)\nRequirement already satisfied: Jinja2>=2.10.1 in c:\\users\\me\\anaconda3\\lib\\site-packages (from Flask>=1.0.4->dash) (2.11.3)\nRequirement already satisfied: click>=5.1 in c:\\users\\me\\anaconda3\\lib\\site-packages (from Flask>=1.0.4->dash) (7.1.2)\nRequirement already satisfied: itsdangerous>=0.24 in c:\\users\\me\\anaconda3\\lib\\site-packages (from Flask>=1.0.4->dash) (1.1.0)\nRequirement already satisfied: MarkupSafe>=0.23 in c:\\users\\me\\anaconda3\\lib\\site-packages (from Jinja2>=2.10.1->Flask>=1.0.4->dash) (1.1.1)\nRequirement already satisfied: tenacity>=6.2.0 in c:\\users\\me\\anaconda3\\lib\\site-packages (from plotly>=5.0.0->dash) (8.0.1)\nRequirement already satisfied: six in c:\\users\\me\\anaconda3\\lib\\site-packages (from plotly>=5.0.0->dash) (1.15.0)\nRequirement already satisfied: brotli in c:\\users\\me\\anaconda3\\lib\\site-packages (from flask-compress->dash) (1.0.9)\nNote: you may need to restart the kernel to use updated packages.\n"
                }
            ],
            "source": "pip install dash"
        },
        {
            "cell_type": "code",
            "execution_count": 3,
            "id": "794183fa-acf5-4f87-980c-8b37e822ac53",
            "metadata": {},
            "outputs": [],
            "source": "import pandas as pd\nimport dash\nfrom dash import html, dcc\n\nfrom dash.dependencies import Input, Output\nimport plotly.express as px\nfrom dash import dcc"
        },
        {
            "cell_type": "markdown",
            "id": "801e01b9",
            "metadata": {},
            "source": "****"
        },
        {
            "cell_type": "code",
            "execution_count": 4,
            "id": "4a13ee6d-c87d-49f1-9fd6-bc9664111505",
            "metadata": {},
            "outputs": [],
            "source": "spacex_df = pd.read_csv(\"spacex_launch_dash.csv\")\nmax_payload = spacex_df['Payload Mass (kg)'].max()\nmin_payload = spacex_df['Payload Mass (kg)'].min()"
        },
        {
            "cell_type": "code",
            "execution_count": 5,
            "id": "80fbe7ea-a2d1-4252-a59e-73489bd2c085",
            "metadata": {},
            "outputs": [],
            "source": "app = dash.Dash(__name__)\n\nuniquelaunchsites = spacex_df['Launch Site'].unique().tolist()\nlsites = []\nlsites.append({'label': 'All Sites', 'value': 'All Sites'})\nfor site in uniquelaunchsites:\n lsites.append({'label': site, 'value': site})"
        },
        {
            "cell_type": "code",
            "execution_count": null,
            "id": "b78e8fda-9b7c-43fa-9744-6b85d02e0162",
            "metadata": {},
            "outputs": [
                {
                    "name": "stdout",
                    "output_type": "stream",
                    "text": "Dash is running on http://127.0.0.1:8050/\n\n * Serving Flask app \"__main__\" (lazy loading)\n * Environment: production\n   WARNING: This is a development server. Do not use it in a production deployment.\n   Use a production WSGI server instead.\n * Debug mode: off\n"
                },
                {
                    "name": "stderr",
                    "output_type": "stream",
                    "text": " * Running on http://127.0.0.1:8050/ (Press CTRL+C to quit)\n127.0.0.1 - - [06/Sep/2021 23:38:55] \"\u001b[37mGET / HTTP/1.1\u001b[0m\" 200 -\n127.0.0.1 - - [06/Sep/2021 23:38:55] \"\u001b[37mGET /_dash-component-suites/dash/deps/polyfill@7.v2_0_0m1630749638.12.1.min.js HTTP/1.1\u001b[0m\" 200 -\n127.0.0.1 - - [06/Sep/2021 23:38:55] \"\u001b[37mGET /_dash-component-suites/dash/deps/react@16.v2_0_0m1630749638.14.0.min.js HTTP/1.1\u001b[0m\" 200 -\n127.0.0.1 - - [06/Sep/2021 23:38:55] \"\u001b[37mGET /_dash-component-suites/dash/dash-renderer/build/dash_renderer.v2_0_0m1630749638.min.js HTTP/1.1\u001b[0m\" 200 -\n127.0.0.1 - - [06/Sep/2021 23:38:55] \"\u001b[37mGET /_dash-component-suites/dash/deps/react-dom@16.v2_0_0m1630749638.14.0.min.js HTTP/1.1\u001b[0m\" 200 -\n127.0.0.1 - - [06/Sep/2021 23:38:55] \"\u001b[37mGET /_dash-component-suites/dash/dcc/dash_core_components-shared.v2_0_0m1630749638.js HTTP/1.1\u001b[0m\" 200 -\n127.0.0.1 - - [06/Sep/2021 23:38:55] \"\u001b[37mGET /_dash-component-suites/dash/dcc/dash_core_components.v2_0_0m1630749638.js HTTP/1.1\u001b[0m\" 200 -\n127.0.0.1 - - [06/Sep/2021 23:38:55] \"\u001b[37mGET /_dash-component-suites/dash/deps/prop-types@15.v2_0_0m1630749638.7.2.min.js HTTP/1.1\u001b[0m\" 200 -\n127.0.0.1 - - [06/Sep/2021 23:38:55] \"\u001b[37mGET /_dash-component-suites/dash/html/dash_html_components.v2_0_0m1630749638.min.js HTTP/1.1\u001b[0m\" 200 -\n127.0.0.1 - - [06/Sep/2021 23:38:55] \"\u001b[37mGET /_dash-component-suites/dash/dash_table/bundle.v5_0_0m1630749638.js HTTP/1.1\u001b[0m\" 200 -\n127.0.0.1 - - [06/Sep/2021 23:38:55] \"\u001b[37mGET /_dash-layout HTTP/1.1\u001b[0m\" 200 -\n127.0.0.1 - - [06/Sep/2021 23:38:55] \"\u001b[37mGET /_dash-dependencies HTTP/1.1\u001b[0m\" 200 -\n127.0.0.1 - - [06/Sep/2021 23:38:55] \"\u001b[37mGET /_favicon.ico?v=2.0.0 HTTP/1.1\u001b[0m\" 200 -\n127.0.0.1 - - [06/Sep/2021 23:38:55] \"\u001b[37mGET /_dash-component-suites/dash/dcc/async-dropdown.js HTTP/1.1\u001b[0m\" 200 -\n127.0.0.1 - - [06/Sep/2021 23:38:55] \"\u001b[37mGET /_dash-component-suites/dash/dcc/async-graph.js HTTP/1.1\u001b[0m\" 200 -\n127.0.0.1 - - [06/Sep/2021 23:38:55] \"\u001b[37mGET /_dash-component-suites/dash/dcc/async-slider.js HTTP/1.1\u001b[0m\" 200 -\n127.0.0.1 - - [06/Sep/2021 23:38:55] \"\u001b[37mGET /_dash-component-suites/dash/dcc/async-plotlyjs.js HTTP/1.1\u001b[0m\" 200 -\n127.0.0.1 - - [06/Sep/2021 23:38:56] \"\u001b[37mPOST /_dash-update-component HTTP/1.1\u001b[0m\" 200 -\n127.0.0.1 - - [06/Sep/2021 23:38:56] \"\u001b[37mPOST /_dash-update-component HTTP/1.1\u001b[0m\" 200 -\n127.0.0.1 - - [06/Sep/2021 23:40:12] \"\u001b[37mPOST /_dash-update-component HTTP/1.1\u001b[0m\" 200 -\n127.0.0.1 - - [06/Sep/2021 23:40:13] \"\u001b[37mPOST /_dash-update-component HTTP/1.1\u001b[0m\" 200 -\n127.0.0.1 - - [06/Sep/2021 23:40:22] \"\u001b[37mPOST /_dash-update-component HTTP/1.1\u001b[0m\" 200 -\n127.0.0.1 - - [06/Sep/2021 23:40:22] \"\u001b[37mPOST /_dash-update-component HTTP/1.1\u001b[0m\" 200 -\n127.0.0.1 - - [06/Sep/2021 23:40:28] \"\u001b[37mPOST /_dash-update-component HTTP/1.1\u001b[0m\" 200 -\n127.0.0.1 - - [06/Sep/2021 23:40:28] \"\u001b[37mPOST /_dash-update-component HTTP/1.1\u001b[0m\" 200 -\n127.0.0.1 - - [06/Sep/2021 23:40:34] \"\u001b[37mPOST /_dash-update-component HTTP/1.1\u001b[0m\" 200 -\n127.0.0.1 - - [06/Sep/2021 23:40:34] \"\u001b[37mPOST /_dash-update-component HTTP/1.1\u001b[0m\" 200 -\n127.0.0.1 - - [06/Sep/2021 23:41:03] \"\u001b[37mPOST /_dash-update-component HTTP/1.1\u001b[0m\" 200 -\n127.0.0.1 - - [06/Sep/2021 23:41:03] \"\u001b[37mPOST /_dash-update-component HTTP/1.1\u001b[0m\" 200 -\n127.0.0.1 - - [06/Sep/2021 23:43:08] \"\u001b[37mPOST /_dash-update-component HTTP/1.1\u001b[0m\" 200 -\n127.0.0.1 - - [06/Sep/2021 23:43:08] \"\u001b[37mPOST /_dash-update-component HTTP/1.1\u001b[0m\" 200 -\n127.0.0.1 - - [06/Sep/2021 23:43:56] \"\u001b[37mPOST /_dash-update-component HTTP/1.1\u001b[0m\" 200 -\n127.0.0.1 - - [06/Sep/2021 23:43:56] \"\u001b[37mPOST /_dash-update-component HTTP/1.1\u001b[0m\" 200 -\n127.0.0.1 - - [06/Sep/2021 23:43:59] \"\u001b[37mPOST /_dash-update-component HTTP/1.1\u001b[0m\" 200 -\n127.0.0.1 - - [06/Sep/2021 23:43:59] \"\u001b[37mPOST /_dash-update-component HTTP/1.1\u001b[0m\" 200 -\n127.0.0.1 - - [06/Sep/2021 23:44:02] \"\u001b[37mPOST /_dash-update-component HTTP/1.1\u001b[0m\" 200 -\n127.0.0.1 - - [06/Sep/2021 23:44:02] \"\u001b[37mPOST /_dash-update-component HTTP/1.1\u001b[0m\" 200 -\n127.0.0.1 - - [06/Sep/2021 23:44:07] \"\u001b[37mPOST /_dash-update-component HTTP/1.1\u001b[0m\" 200 -\n127.0.0.1 - - [06/Sep/2021 23:44:07] \"\u001b[37mPOST /_dash-update-component HTTP/1.1\u001b[0m\" 200 -\n127.0.0.1 - - [06/Sep/2021 23:44:14] \"\u001b[37mPOST /_dash-update-component HTTP/1.1\u001b[0m\" 200 -\n127.0.0.1 - - [06/Sep/2021 23:44:14] \"\u001b[37mPOST /_dash-update-component HTTP/1.1\u001b[0m\" 200 -\n127.0.0.1 - - [06/Sep/2021 23:44:20] \"\u001b[37mPOST /_dash-update-component HTTP/1.1\u001b[0m\" 200 -\n127.0.0.1 - - [06/Sep/2021 23:44:20] \"\u001b[37mPOST /_dash-update-component HTTP/1.1\u001b[0m\" 200 -\n127.0.0.1 - - [06/Sep/2021 23:44:34] \"\u001b[37mPOST /_dash-update-component HTTP/1.1\u001b[0m\" 200 -\n127.0.0.1 - - [06/Sep/2021 23:44:36] \"\u001b[37mPOST /_dash-update-component HTTP/1.1\u001b[0m\" 200 -\n127.0.0.1 - - [06/Sep/2021 23:44:38] \"\u001b[37mPOST /_dash-update-component HTTP/1.1\u001b[0m\" 200 -\n127.0.0.1 - - [06/Sep/2021 23:44:39] \"\u001b[37mPOST /_dash-update-component HTTP/1.1\u001b[0m\" 200 -\n127.0.0.1 - - [06/Sep/2021 23:46:14] \"\u001b[37mPOST /_dash-update-component HTTP/1.1\u001b[0m\" 200 -\n127.0.0.1 - - [06/Sep/2021 23:46:14] \"\u001b[37mPOST /_dash-update-component HTTP/1.1\u001b[0m\" 200 -\n127.0.0.1 - - [06/Sep/2021 23:46:20] \"\u001b[37mPOST /_dash-update-component HTTP/1.1\u001b[0m\" 200 -\n127.0.0.1 - - [06/Sep/2021 23:46:20] \"\u001b[37mPOST /_dash-update-component HTTP/1.1\u001b[0m\" 200 -\n127.0.0.1 - - [06/Sep/2021 23:46:25] \"\u001b[37mPOST /_dash-update-component HTTP/1.1\u001b[0m\" 200 -\n127.0.0.1 - - [06/Sep/2021 23:46:25] \"\u001b[37mPOST /_dash-update-component HTTP/1.1\u001b[0m\" 200 -\n127.0.0.1 - - [06/Sep/2021 23:46:31] \"\u001b[37mPOST /_dash-update-component HTTP/1.1\u001b[0m\" 200 -\n127.0.0.1 - - [06/Sep/2021 23:46:31] \"\u001b[37mPOST /_dash-update-component HTTP/1.1\u001b[0m\" 200 -\n127.0.0.1 - - [06/Sep/2021 23:46:34] \"\u001b[37mPOST /_dash-update-component HTTP/1.1\u001b[0m\" 200 -\n127.0.0.1 - - [06/Sep/2021 23:46:34] \"\u001b[37mPOST /_dash-update-component HTTP/1.1\u001b[0m\" 200 -\n127.0.0.1 - - [06/Sep/2021 23:46:37] \"\u001b[37mPOST /_dash-update-component HTTP/1.1\u001b[0m\" 200 -\n127.0.0.1 - - [06/Sep/2021 23:46:37] \"\u001b[37mPOST /_dash-update-component HTTP/1.1\u001b[0m\" 200 -\n127.0.0.1 - - [06/Sep/2021 23:48:32] \"\u001b[37mPOST /_dash-update-component HTTP/1.1\u001b[0m\" 200 -\n127.0.0.1 - - [06/Sep/2021 23:48:34] \"\u001b[37mPOST /_dash-update-component HTTP/1.1\u001b[0m\" 200 -\n127.0.0.1 - - [06/Sep/2021 23:48:35] \"\u001b[37mPOST /_dash-update-component HTTP/1.1\u001b[0m\" 200 -\n127.0.0.1 - - [06/Sep/2021 23:48:37] \"\u001b[37mPOST /_dash-update-component HTTP/1.1\u001b[0m\" 200 -\n127.0.0.1 - - [06/Sep/2021 23:48:38] \"\u001b[37mPOST /_dash-update-component HTTP/1.1\u001b[0m\" 200 -\n127.0.0.1 - - [06/Sep/2021 23:48:42] \"\u001b[37mPOST /_dash-update-component HTTP/1.1\u001b[0m\" 200 -\n127.0.0.1 - - [06/Sep/2021 23:48:43] \"\u001b[37mPOST /_dash-update-component HTTP/1.1\u001b[0m\" 200 -\n127.0.0.1 - - [06/Sep/2021 23:48:47] \"\u001b[37mPOST /_dash-update-component HTTP/1.1\u001b[0m\" 200 -\n127.0.0.1 - - [06/Sep/2021 23:48:49] \"\u001b[37mPOST /_dash-update-component HTTP/1.1\u001b[0m\" 200 -\n127.0.0.1 - - [06/Sep/2021 23:48:53] \"\u001b[37mPOST /_dash-update-component HTTP/1.1\u001b[0m\" 200 -\n127.0.0.1 - - [06/Sep/2021 23:49:13] \"\u001b[37mPOST /_dash-update-component HTTP/1.1\u001b[0m\" 200 -\n127.0.0.1 - - [06/Sep/2021 23:49:35] \"\u001b[37mPOST /_dash-update-component HTTP/1.1\u001b[0m\" 200 -\n127.0.0.1 - - [06/Sep/2021 23:49:35] \"\u001b[37mPOST /_dash-update-component HTTP/1.1\u001b[0m\" 200 -\n127.0.0.1 - - [06/Sep/2021 23:49:49] \"\u001b[37mPOST /_dash-update-component HTTP/1.1\u001b[0m\" 200 -\n127.0.0.1 - - [06/Sep/2021 23:49:52] \"\u001b[37mPOST /_dash-update-component HTTP/1.1\u001b[0m\" 200 -\n"
                }
            ],
            "source": "app.layout = html.Div(children=[html.H1('SpaceX Launch Records Dashboard',\n                                        style={'textAlign': 'center', 'color': '#503D36',\n                                               'font-size': 40}),\n                \n                                \n\n                    \n                                dcc.Dropdown(id='site_dropdown',options=lsites,placeholder='Select a Launch Site here', searchable = True , value = 'All Sites'),\n                                html.Br(),\n\n                       \n                                html.Div(dcc.Graph(id='success-pie-chart')),\n                                html.Br(),\n\n                                html.P(\"Payload range (Kg):\"),\n                             \n                                dcc.RangeSlider(\n                                    id='payload_slider',\n                                    min=0,\n                                    max=10000,\n                                    step=1000,  \n                                    marks = {\n                                            0: '0 kg',\n                                            1000: '1000 kg',\n                                            2000: '2000 kg',\n                                            3000: '3000 kg',\n                                            4000: '4000 kg',\n                                            5000: '5000 kg',\n                                            6000: '6000 kg',  \n                                            7000: '7000 kg',\n                                            8000: '8000 kg',\n                                            9000: '9000 kg',\n                                            10000: '10000 kg'                                         \n                                    },\n\n                                    value=[min_payload,max_payload]\n                                ),\n                            \n                                html.Div(dcc.Graph(id='success-payload-scatter-chart')),\n                              \n                                ])\n\n@app.callback(\n     Output(component_id='success-pie-chart',component_property='figure'),\n     [Input(component_id='site_dropdown',component_property='value')]               \n)\ndef update_graph(site_dropdown):\n    if (site_dropdown == 'All Sites'):\n        df  = spacex_df[spacex_df['class'] == 1]\n        fig = px.pie(df, names = 'Launch Site',hole=.3,title = 'Total Success Launches By all sites')\n    else:\n        df  = spacex_df.loc[spacex_df['Launch Site'] == site_dropdown]\n        fig = px.pie(df, names = 'class',hole=.3,title = 'Total Success Launches for site '+site_dropdown)\n    return fig\n\n@app.callback(\n     Output(component_id='success-payload-scatter-chart',component_property='figure'),\n     [Input(component_id='site_dropdown',component_property='value'),Input(component_id=\"payload_slider\", component_property=\"value\")]               \n)\ndef update_scattergraph(site_dropdown,payload_slider):\n    if site_dropdown == 'All Sites':\n        low, high = payload_slider\n        df  = spacex_df\n        mask = (df['Payload Mass (kg)'] > low) & (df['Payload Mass (kg)'] < high)\n        fig = px.scatter(\n            df[mask], x=\"Payload Mass (kg)\", y=\"class\", \n            color=\"Booster Version\",\n            size='Payload Mass (kg)',\n            hover_data=['Payload Mass (kg)'])\n    else:\n        low, high = payload_slider\n        df  = spacex_df.loc[spacex_df['Launch Site'] == site_dropdown]\n        mask = (df['Payload Mass (kg)'] > low) & (df['Payload Mass (kg)'] < high)\n        fig = px.scatter(\n            df[mask], x=\"Payload Mass (kg)\", y=\"class\", \n            color=\"Booster Version\",\n            size='Payload Mass (kg)',\n            hover_data=['Payload Mass (kg)'])\n    return fig\n\n\nif __name__ == '__main__':\n    app.run_server()\n"
        },
        {
            "cell_type": "code",
            "execution_count": null,
            "id": "aa4370cc-577f-4b97-9a93-c11aa55cfeba",
            "metadata": {},
            "outputs": [],
            "source": ""
        }
    ],
    "metadata": {
        "kernelspec": {
            "display_name": "Python 3",
            "language": "python",
            "name": "python3"
        },
        "language_info": {
            "codemirror_mode": {
                "name": "ipython",
                "version": 3
            },
            "file_extension": ".py",
            "mimetype": "text/x-python",
            "name": "python",
            "nbconvert_exporter": "python",
            "pygments_lexer": "ipython3",
            "version": "3.8.8"
        }
    },
    "nbformat": 4,
    "nbformat_minor": 5
}